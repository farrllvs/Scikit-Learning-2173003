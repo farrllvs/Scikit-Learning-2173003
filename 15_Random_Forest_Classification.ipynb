{
 "cells": [
  {
   "cell_type": "markdown",
   "id": "f58fb6a5",
   "metadata": {},
   "source": [
    "# 16 Classification Task dengan Random Forest\n",
    "\n",
    "Referensi: [https://en.wikipedia.org/wiki/Random_forest](https://en.wikipedia.org/wiki/Random_forest)"
   ]
  },
  {
   "cell_type": "markdown",
   "id": "11a5ab68",
   "metadata": {},
   "source": [
    "## General ML Model Training\n",
    "\n",
    "<div>\n",
    "    <img src=\"./images/general_ML_model_training.png\" width=\"500\">\n",
    "</div>"
   ]
  },
  {
   "cell_type": "markdown",
   "id": "22777066",
   "metadata": {},
   "source": [
    "## Ensemble Learning: heterogeneous & homogeneous\n",
    "- Ensemble learning adalah teknik prediksi untuk menggabungkan beberapa model yang ada.\n",
    "- Heterogeneous adalah ensemble learning dengan jenis yang berbeda.\n",
    "- Homogeneus adalah ensemble learning dengan jenis yang sama.\n",
    "- Seperti yang terlihat pada gambar dibawah ini, prediksi yang dihasilkan lebih dari 1, maka diperlukan majority voting\n",
    "Referensi: [https://en.wikipedia.org/wiki/Ensemble_learning](https://en.wikipedia.org/wiki/Ensemble_learning)\n",
    "<p/>\n",
    "\n",
    "<div>\n",
    "    <img src=\"./images/ensemble_learning.png\" width=\"800\">\n",
    "</div>"
   ]
  },
  {
   "cell_type": "markdown",
   "id": "bd79f8df",
   "metadata": {},
   "source": [
    "## Bagging: Bootstrap Aggregating\n",
    "- Bagging merupakan implementasi dari ensemble learning (homogeneus).\n",
    "- Data yang baru dari bagging ini dihasilkan dari random sampling with replacement di training set.\n",
    "Referensi: [https://en.wikipedia.org/wiki/Bootstrap_aggregating](https://en.wikipedia.org/wiki/Bootstrap_aggregating)\n",
    "<p/>\n",
    "\n",
    "<div>\n",
    "    <img src=\"./images/bagging.png\" width=\"800\">\n",
    "</div>"
   ]
  },
  {
   "cell_type": "markdown",
   "id": "c62d5c0c",
   "metadata": {},
   "source": [
    "## Random Forest\n",
    "- Model yang digunakan oleh Random Forest adalah decision tree. Namun,\n",
    "- Performanya lebih hebat dibandingkan decision tree.\n",
    "Referensi: [https://en.wikipedia.org/wiki/Random_forest](https://en.wikipedia.org/wiki/Random_forest)\n",
    "<p/>\n",
    "\n",
    "<div>\n",
    "    <img src=\"./images/random_forest.png\" width=\"800\">\n",
    "</div>"
   ]
  },
  {
   "cell_type": "markdown",
   "id": "26fe1b96",
   "metadata": {},
   "source": [
    "Persiapan dataset"
   ]
  },
  {
   "cell_type": "code",
   "execution_count": 1,
   "id": "f92bd343",
   "metadata": {},
   "outputs": [
    {
     "name": "stdout",
     "output_type": "stream",
     "text": [
      "Dimensi Feature: (150, 4)\n",
      "Class: {0, 1, 2}\n"
     ]
    }
   ],
   "source": [
    "from sklearn.datasets import load_iris\n",
    "\n",
    "X, y = load_iris(return_X_y=True)\n",
    "\n",
    "print(f'Dimensi Feature: {X.shape}')\n",
    "print(f'Class: {set(y)}')"
   ]
  },
  {
   "cell_type": "code",
   "execution_count": 2,
   "id": "3f3cb54e",
   "metadata": {},
   "outputs": [],
   "source": [
    "from sklearn.model_selection import train_test_split\n",
    "\n",
    "X_train, X_test, y_train, y_test = train_test_split(X,\n",
    "                                                    y,\n",
    "                                                    test_size=0.3,\n",
    "                                                    random_state=0)"
   ]
  },
  {
   "cell_type": "markdown",
   "id": "b9c435f3",
   "metadata": {},
   "source": [
    "## Classification dengan `RandomForestClassifier`"
   ]
  },
  {
   "cell_type": "code",
   "execution_count": 3,
   "id": "d95cc6f1",
   "metadata": {},
   "outputs": [
    {
     "data": {
      "text/plain": [
       "RandomForestClassifier(random_state=0)"
      ]
     },
     "execution_count": 3,
     "metadata": {},
     "output_type": "execute_result"
    }
   ],
   "source": [
    "from sklearn.ensemble import RandomForestClassifier\n",
    "\n",
    "model = RandomForestClassifier(n_estimators=100, \n",
    "                               random_state=0)\n",
    "\n",
    "model.fit(X_train, y_train)"
   ]
  },
  {
   "cell_type": "markdown",
   "id": "008578b6",
   "metadata": {},
   "source": [
    "## Evaluasi Model"
   ]
  },
  {
   "cell_type": "code",
   "execution_count": 4,
   "id": "8f8f0b0e",
   "metadata": {},
   "outputs": [
    {
     "name": "stdout",
     "output_type": "stream",
     "text": [
      "              precision    recall  f1-score   support\n",
      "\n",
      "           0       1.00      1.00      1.00        16\n",
      "           1       1.00      0.94      0.97        18\n",
      "           2       0.92      1.00      0.96        11\n",
      "\n",
      "    accuracy                           0.98        45\n",
      "   macro avg       0.97      0.98      0.98        45\n",
      "weighted avg       0.98      0.98      0.98        45\n",
      "\n"
     ]
    }
   ],
   "source": [
    "from sklearn.metrics import classification_report\n",
    "\n",
    "y_pred = model.predict(X_test)\n",
    "\n",
    "print(classification_report(y_test, y_pred))"
   ]
  },
  {
   "cell_type": "code",
   "execution_count": null,
   "id": "d17d2ee6",
   "metadata": {},
   "outputs": [],
   "source": []
  }
 ],
 "metadata": {
  "kernelspec": {
   "display_name": "Python 3 (ipykernel)",
   "language": "python",
   "name": "python3"
  },
  "language_info": {
   "codemirror_mode": {
    "name": "ipython",
    "version": 3
   },
   "file_extension": ".py",
   "mimetype": "text/x-python",
   "name": "python",
   "nbconvert_exporter": "python",
   "pygments_lexer": "ipython3",
   "version": "3.9.7"
  }
 },
 "nbformat": 4,
 "nbformat_minor": 5
}
