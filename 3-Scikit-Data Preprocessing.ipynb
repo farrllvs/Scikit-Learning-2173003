{
 "cells": [
  {
   "cell_type": "markdown",
   "id": "f53eacf3",
   "metadata": {},
   "source": [
    "# Data Preprocessing dengan Scikit-Learn"
   ]
  },
  {
   "cell_type": "markdown",
   "id": "094cd30f",
   "metadata": {},
   "source": [
    "**Sample Dataset**\n",
    "- Pada sample dataset kali ini terdiri dari 4 baris dataset yang masing-masingnya terdiri dari 3 features\n",
    "- Fungsi.shape digunakan untuk melihat dimensi dataset. Output bernilai 4,3 berarti memiliki 4 baris dan 3 features."
   ]
  },
  {
   "cell_type": "code",
   "execution_count": 1,
   "id": "f7f80593",
   "metadata": {},
   "outputs": [
    {
     "data": {
      "text/plain": [
       "array([[ 2.1, -1.9,  5.5],\n",
       "       [-1.5,  2.4,  3.5],\n",
       "       [ 0.5, -7.9,  5.6],\n",
       "       [ 5.9,  2.3, -5.8]])"
      ]
     },
     "execution_count": 1,
     "metadata": {},
     "output_type": "execute_result"
    }
   ],
   "source": [
    "import numpy as np\n",
    "from sklearn import preprocessing\n",
    "\n",
    "sample_data = np.array([[2.1, -1.9, 5.5], \n",
    "                        [-1.5, 2.4, 3.5], \n",
    "                        [0.5, -7.9, 5.6],\n",
    "                        [5.9, 2.3, -5.8]])\n",
    "\n",
    "sample_data"
   ]
  },
  {
   "cell_type": "code",
   "execution_count": 2,
   "id": "8c6620e2",
   "metadata": {},
   "outputs": [
    {
     "data": {
      "text/plain": [
       "(4, 3)"
      ]
     },
     "execution_count": 2,
     "metadata": {},
     "output_type": "execute_result"
    }
   ],
   "source": [
    "sample_data.shape"
   ]
  },
  {
   "cell_type": "markdown",
   "id": "2d36a031",
   "metadata": {},
   "source": [
    "# Binarisation\n",
    "- Binarisation hanya menghasilkan keluaran 0 dan 1 saja.\n",
    "- Binarizer dapat ditentukan menggunakan fungsi preprocessing.Binarizer()\n",
    "- Parameter threshold menentukan nilai mana yang akan dijadikan 0 karena sisanya akan dijadikan 1.\n",
    "- Fungsi transform() digunakan untuk mengubah sample_data menjadi bilangan yang binarised."
   ]
  },
  {
   "cell_type": "code",
   "execution_count": 3,
   "id": "603d1efb",
   "metadata": {},
   "outputs": [
    {
     "data": {
      "text/plain": [
       "array([[ 2.1, -1.9,  5.5],\n",
       "       [-1.5,  2.4,  3.5],\n",
       "       [ 0.5, -7.9,  5.6],\n",
       "       [ 5.9,  2.3, -5.8]])"
      ]
     },
     "execution_count": 3,
     "metadata": {},
     "output_type": "execute_result"
    }
   ],
   "source": [
    "sample_data"
   ]
  },
  {
   "cell_type": "code",
   "execution_count": 4,
   "id": "d2ae9a6e",
   "metadata": {},
   "outputs": [
    {
     "data": {
      "text/plain": [
       "array([[1., 0., 1.],\n",
       "       [0., 1., 1.],\n",
       "       [0., 0., 1.],\n",
       "       [1., 1., 0.]])"
      ]
     },
     "execution_count": 4,
     "metadata": {},
     "output_type": "execute_result"
    }
   ],
   "source": [
    "preprocessor = preprocessing.Binarizer(threshold=0.5)\n",
    "binarised_data = preprocessor.transform(sample_data)\n",
    "binarised_data"
   ]
  },
  {
   "cell_type": "markdown",
   "id": "4c392892",
   "metadata": {},
   "source": [
    "# Scaling\n",
    "- Bertujuan untuk menghasilkan data numerik dalam jangkauan tertentu\n",
    "- Dengan menggunakan fungsi preprocessing.MinMaxScaler().\n",
    "- Parameter feature_range digunakan untuk menentukan jangkauan scaling.\n",
    "- Setelahnya kita sesuaikan sample_data dengan scaler tadi menggunakan fungsi fit().\n",
    "- Terakhir transform sample_data menggunakan method transform().\n",
    "- Penyingkatan cara kedua dan ketiga bisa dilakukan dengan menggunkan method fit_transform()."
   ]
  },
  {
   "cell_type": "code",
   "execution_count": 5,
   "id": "b5580861",
   "metadata": {},
   "outputs": [
    {
     "data": {
      "text/plain": [
       "array([[ 2.1, -1.9,  5.5],\n",
       "       [-1.5,  2.4,  3.5],\n",
       "       [ 0.5, -7.9,  5.6],\n",
       "       [ 5.9,  2.3, -5.8]])"
      ]
     },
     "execution_count": 5,
     "metadata": {},
     "output_type": "execute_result"
    }
   ],
   "source": [
    "sample_data"
   ]
  },
  {
   "cell_type": "code",
   "execution_count": 6,
   "id": "0b2388d5",
   "metadata": {},
   "outputs": [
    {
     "data": {
      "text/plain": [
       "array([[0.48648649, 0.58252427, 0.99122807],\n",
       "       [0.        , 1.        , 0.81578947],\n",
       "       [0.27027027, 0.        , 1.        ],\n",
       "       [1.        , 0.99029126, 0.        ]])"
      ]
     },
     "execution_count": 6,
     "metadata": {},
     "output_type": "execute_result"
    }
   ],
   "source": [
    "preprocessor = preprocessing.MinMaxScaler(feature_range=(0, 1))\n",
    "preprocessor.fit(sample_data)\n",
    "scaled_data = preprocessor.transform(sample_data)\n",
    "scaled_data"
   ]
  },
  {
   "cell_type": "code",
   "execution_count": 7,
   "id": "ab41b82d",
   "metadata": {},
   "outputs": [
    {
     "data": {
      "text/plain": [
       "array([[0.48648649, 0.58252427, 0.99122807],\n",
       "       [0.        , 1.        , 0.81578947],\n",
       "       [0.27027027, 0.        , 1.        ],\n",
       "       [1.        , 0.99029126, 0.        ]])"
      ]
     },
     "execution_count": 7,
     "metadata": {},
     "output_type": "execute_result"
    }
   ],
   "source": [
    "scaled_data = preprocessor.fit_transform(sample_data)\n",
    "scaled_data"
   ]
  },
  {
   "cell_type": "markdown",
   "id": "6bec8bb8",
   "metadata": {},
   "source": [
    "# L1 Normalisation: Least Absolute Deviations\n",
    "Reff: https://en.wikipedia.org/wiki/Least_absolute_deviations\n",
    "\n",
    "- Untuk melakukan normaliasi nilai numerik dapat menggunakan fungsi preprocessing.normalize()."
   ]
  },
  {
   "cell_type": "code",
   "execution_count": 8,
   "id": "fdcda591",
   "metadata": {},
   "outputs": [
    {
     "data": {
      "text/plain": [
       "array([[ 2.1, -1.9,  5.5],\n",
       "       [-1.5,  2.4,  3.5],\n",
       "       [ 0.5, -7.9,  5.6],\n",
       "       [ 5.9,  2.3, -5.8]])"
      ]
     },
     "execution_count": 8,
     "metadata": {},
     "output_type": "execute_result"
    }
   ],
   "source": [
    "sample_data"
   ]
  },
  {
   "cell_type": "code",
   "execution_count": 9,
   "id": "6190c995",
   "metadata": {},
   "outputs": [
    {
     "data": {
      "text/plain": [
       "array([[ 0.22105263, -0.2       ,  0.57894737],\n",
       "       [-0.2027027 ,  0.32432432,  0.47297297],\n",
       "       [ 0.03571429, -0.56428571,  0.4       ],\n",
       "       [ 0.42142857,  0.16428571, -0.41428571]])"
      ]
     },
     "execution_count": 9,
     "metadata": {},
     "output_type": "execute_result"
    }
   ],
   "source": [
    "l1_normalised_data = preprocessing.normalize(sample_data, norm='l1')\n",
    "l1_normalised_data"
   ]
  },
  {
   "cell_type": "markdown",
   "id": "67801b09",
   "metadata": {},
   "source": [
    "# L2 Normalisation: Least Squares\n",
    "Reff: https://en.wikipedia.org/wiki/Least_squares\n",
    "\n",
    "- Untuk melakukan normaliasi nilai numerik dapat menggunakan fungsi preprocessing.normalize()."
   ]
  },
  {
   "cell_type": "code",
   "execution_count": 10,
   "id": "485c254f",
   "metadata": {},
   "outputs": [
    {
     "data": {
      "text/plain": [
       "array([[ 2.1, -1.9,  5.5],\n",
       "       [-1.5,  2.4,  3.5],\n",
       "       [ 0.5, -7.9,  5.6],\n",
       "       [ 5.9,  2.3, -5.8]])"
      ]
     },
     "execution_count": 10,
     "metadata": {},
     "output_type": "execute_result"
    }
   ],
   "source": [
    "sample_data"
   ]
  },
  {
   "cell_type": "code",
   "execution_count": 11,
   "id": "b487e2b6",
   "metadata": {},
   "outputs": [
    {
     "data": {
      "text/plain": [
       "array([[ 0.22105263, -0.2       ,  0.57894737],\n",
       "       [-0.2027027 ,  0.32432432,  0.47297297],\n",
       "       [ 0.03571429, -0.56428571,  0.4       ],\n",
       "       [ 0.42142857,  0.16428571, -0.41428571]])"
      ]
     },
     "execution_count": 11,
     "metadata": {},
     "output_type": "execute_result"
    }
   ],
   "source": [
    "l1_normalised_data = preprocessing.normalize(sample_data, norm='l1')\n",
    "l1_normalised_data"
   ]
  },
  {
   "cell_type": "markdown",
   "id": "e9540c0d",
   "metadata": {},
   "source": [
    "# L2 Normalisation: Least Squares\n",
    "Reff: https://en.wikipedia.org/wiki/Least_squares\n",
    "\n",
    "- Untuk melakukan normaliasi nilai numerik dapat menggunakan fungsi preprocessing.normalize()."
   ]
  },
  {
   "cell_type": "code",
   "execution_count": 12,
   "id": "aaa24791",
   "metadata": {},
   "outputs": [
    {
     "data": {
      "text/plain": [
       "array([[ 2.1, -1.9,  5.5],\n",
       "       [-1.5,  2.4,  3.5],\n",
       "       [ 0.5, -7.9,  5.6],\n",
       "       [ 5.9,  2.3, -5.8]])"
      ]
     },
     "execution_count": 12,
     "metadata": {},
     "output_type": "execute_result"
    }
   ],
   "source": [
    "sample_data"
   ]
  },
  {
   "cell_type": "code",
   "execution_count": 13,
   "id": "3e588953",
   "metadata": {},
   "outputs": [
    {
     "data": {
      "text/plain": [
       "array([[ 0.33946114, -0.30713151,  0.88906489],\n",
       "       [-0.33325106,  0.53320169,  0.7775858 ],\n",
       "       [ 0.05156558, -0.81473612,  0.57753446],\n",
       "       [ 0.68706914,  0.26784051, -0.6754239 ]])"
      ]
     },
     "execution_count": 13,
     "metadata": {},
     "output_type": "execute_result"
    }
   ],
   "source": [
    "l2_normalised_data = preprocessing.normalize(sample_data, norm='l2')\n",
    "l2_normalised_data"
   ]
  },
  {
   "cell_type": "code",
   "execution_count": null,
   "id": "1f037b1f",
   "metadata": {},
   "outputs": [],
   "source": []
  }
 ],
 "metadata": {
  "kernelspec": {
   "display_name": "Python 3 (ipykernel)",
   "language": "python",
   "name": "python3"
  },
  "language_info": {
   "codemirror_mode": {
    "name": "ipython",
    "version": 3
   },
   "file_extension": ".py",
   "mimetype": "text/x-python",
   "name": "python",
   "nbconvert_exporter": "python",
   "pygments_lexer": "ipython3",
   "version": "3.9.7"
  }
 },
 "nbformat": 4,
 "nbformat_minor": 5
}
