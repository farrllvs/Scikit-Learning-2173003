{
 "cells": [
  {
   "cell_type": "markdown",
   "id": "f6c992a6",
   "metadata": {},
   "source": [
    "# Machine Learning Workflow dengan Scikit-Learn"
   ]
  },
  {
   "cell_type": "markdown",
   "id": "678454ba",
   "metadata": {},
   "source": [
    "**Persiapan Dataset**"
   ]
  },
  {
   "cell_type": "markdown",
   "id": "548cfe99",
   "metadata": {},
   "source": [
    "**Load Sample Dataset: Iris Dataset**"
   ]
  },
  {
   "cell_type": "code",
   "execution_count": 1,
   "id": "a4023b56",
   "metadata": {},
   "outputs": [],
   "source": [
    "from sklearn.datasets import load_iris\n",
    "\n",
    "iris = load_iris()\n",
    "\n",
    "X = iris.data\n",
    "y = iris.target"
   ]
  },
  {
   "cell_type": "markdown",
   "id": "353d6cf8",
   "metadata": {},
   "source": [
    "**Splitting Dataset: Training & Testing Set**\n",
    "- Persiapan dataset untuk training model dibagi menjadi 2 secara random yaitu training set dan testing set.\n",
    "- training set: untuk melakukan training model\n",
    "- testings set: untuk melakukan proses evaluasi/ testing performa dari trained model\n",
    "- Split dataset adalah membagi dataset dengan menggunakan function train_test_split()\n",
    "- Parameter 1 adalah features, parameter 2 adalah target, parameter 3 merepresentasikan ukuran dari dataset, Parameter 4 berguna  untuk menghasilkan pengacakan\n",
    "- Parameter pertama menampung features training set\n",
    "- Parameter kedua menampung features testing set\n",
    "- Parameter ketiga menampung target training set\n",
    "- Parameter keempat menampung target testing set"
   ]
  },
  {
   "cell_type": "code",
   "execution_count": 2,
   "id": "7bf1da1a",
   "metadata": {},
   "outputs": [],
   "source": [
    "from sklearn.model_selection import train_test_split\n",
    "\n",
    "X_train, X_test, y_train, y_test = train_test_split(X,\n",
    "                                                    y,\n",
    "                                                    test_size=0.4,\n",
    "                                                    random_state=1)"
   ]
  },
  {
   "cell_type": "markdown",
   "id": "e8faddbb",
   "metadata": {},
   "source": [
    "# Training Model\n",
    "- Pada SKLearn ini, model machine learning dibentuk dari class yang dikenal dengan istilah estimator yang mengimplementasikan dua method utama, yaitu fit() dan predict().\n",
    "\n",
    "- Method fit() digunakan untuk melakukan training model.\n",
    "\n",
    "- Method predict() digunakan untuk melakukan estimasi/prediksi dengan memanfaatkan trained model.\n",
    "\n",
    "- Parameter n_neighbors berguna untuk menentukan jumlah neighbors.\n",
    "\n",
    "- Fungsi fit() digunakan untuk mentraining model dengan 2 buah parameter , yaitu : features training set dan target taraining set."
   ]
  },
  {
   "cell_type": "code",
   "execution_count": 3,
   "id": "92def140",
   "metadata": {},
   "outputs": [
    {
     "data": {
      "text/plain": [
       "KNeighborsClassifier(n_neighbors=3)"
      ]
     },
     "execution_count": 3,
     "metadata": {},
     "output_type": "execute_result"
    }
   ],
   "source": [
    "from sklearn.neighbors import KNeighborsClassifier\n",
    "\n",
    "model = KNeighborsClassifier(n_neighbors=3)\n",
    "model.fit(X_train, y_train)"
   ]
  },
  {
   "cell_type": "markdown",
   "id": "00ca5c1e",
   "metadata": {},
   "source": [
    "# Evaluasi Model\n",
    "- Menggunakan accuracy sebagai metrics testing model yang telah ditraining.\n",
    "- Fungsi model.predict() digunakan untuk memprediksi.\n",
    "- Fungsi accuracy_score() digunakan untuk membandingkan."
   ]
  },
  {
   "cell_type": "code",
   "execution_count": 4,
   "id": "398f0fc2",
   "metadata": {},
   "outputs": [
    {
     "name": "stdout",
     "output_type": "stream",
     "text": [
      "Accuracy: 0.9833333333333333\n"
     ]
    }
   ],
   "source": [
    "from sklearn.metrics import accuracy_score\n",
    "\n",
    "y_pred = model.predict(X_test)\n",
    "acc = accuracy_score(y_test, y_pred)\n",
    "print(f'Accuracy: {acc}')"
   ]
  },
  {
   "cell_type": "markdown",
   "id": "bc3e7697",
   "metadata": {},
   "source": [
    "# Pemanfaatan Trained Model\n",
    "- Trained model berfungsi untuk memprediksi data baru.\n",
    "- Pada kasus kali ini nilai array pertama adalah 1 dan nilai array kedua adalah 2.\n",
    "- Jika dikenakan iris.target_names maka akan muncul nama untuk array dengan nilai 1 dan 2, nilai 1 pada dataset yang digunakan memiliki nama versicolor dan virginica untuk yang bernilai 2."
   ]
  },
  {
   "cell_type": "code",
   "execution_count": 5,
   "id": "fb5c5299",
   "metadata": {},
   "outputs": [
    {
     "data": {
      "text/plain": [
       "array([1, 2])"
      ]
     },
     "execution_count": 5,
     "metadata": {},
     "output_type": "execute_result"
    }
   ],
   "source": [
    "data_baru = [[5, 5, 3, 2], \n",
    "             [2, 4, 3, 5]]\n",
    "\n",
    "preds =  model.predict(data_baru)\n",
    "preds"
   ]
  },
  {
   "cell_type": "code",
   "execution_count": 6,
   "id": "a184a16a",
   "metadata": {},
   "outputs": [
    {
     "name": "stdout",
     "output_type": "stream",
     "text": [
      "Hasil Prediksi: ['versicolor', 'virginica']\n"
     ]
    }
   ],
   "source": [
    "pred_species = [iris.target_names[p] for p in preds] \n",
    "print(f'Hasil Prediksi: {pred_species}')"
   ]
  },
  {
   "cell_type": "markdown",
   "id": "5b812757",
   "metadata": {},
   "source": [
    "# Dump & Load Trained Model\n",
    "**Dumping Model Machine Learning menjadi file joblib**\n",
    "- Trained model dapat kita export dengan menggunakan fungsi joblib.dump() yang memiliki 2 parameter : Parameter pertama mengindikasi model yang kita inginkan, sedangkan yang kedua mengindikasikan nama model tersebut."
   ]
  },
  {
   "cell_type": "code",
   "execution_count": 7,
   "id": "f3a36ebb",
   "metadata": {},
   "outputs": [
    {
     "data": {
      "text/plain": [
       "['iris_classifier_knn.joblib']"
      ]
     },
     "execution_count": 7,
     "metadata": {},
     "output_type": "execute_result"
    }
   ],
   "source": [
    "import joblib\n",
    "\n",
    "joblib.dump(model, 'iris_classifier_knn.joblib')"
   ]
  },
  {
   "cell_type": "markdown",
   "id": "c3d6e11e",
   "metadata": {},
   "source": [
    "- Loading Model Machine Learning dari file joblib menggunakan joblib.load()"
   ]
  },
  {
   "cell_type": "code",
   "execution_count": 8,
   "id": "34975d8b",
   "metadata": {},
   "outputs": [],
   "source": [
    "production_model = joblib.load('iris_classifier_knn.joblib')"
   ]
  },
  {
   "cell_type": "code",
   "execution_count": null,
   "id": "3cdf9177",
   "metadata": {},
   "outputs": [],
   "source": []
  }
 ],
 "metadata": {
  "kernelspec": {
   "display_name": "Python 3 (ipykernel)",
   "language": "python",
   "name": "python3"
  },
  "language_info": {
   "codemirror_mode": {
    "name": "ipython",
    "version": 3
   },
   "file_extension": ".py",
   "mimetype": "text/x-python",
   "name": "python",
   "nbconvert_exporter": "python",
   "pygments_lexer": "ipython3",
   "version": "3.9.7"
  }
 },
 "nbformat": 4,
 "nbformat_minor": 5
}
